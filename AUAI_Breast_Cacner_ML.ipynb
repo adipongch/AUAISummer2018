{
  "nbformat": 4,
  "nbformat_minor": 0,
  "metadata": {
    "colab": {
      "name": "AUAI_Breast_Cacner_ML.ipynb",
      "version": "0.3.2",
      "provenance": [],
      "collapsed_sections": [],
      "include_colab_link": true
    }
  },
  "cells": [
    {
      "cell_type": "markdown",
      "metadata": {
        "id": "view-in-github",
        "colab_type": "text"
      },
      "source": [
        "[View in Colaboratory](https://colab.research.google.com/github/adipongch/AUAISummer2018/blob/master/AUAI_Breast_Cacner_ML.ipynb)"
      ]
    },
    {
      "metadata": {
        "id": "snvkphFEK-wA",
        "colab_type": "code",
        "colab": {}
      },
      "cell_type": "code",
      "source": [
        "!apt-get install -y -qq software-properties-common python-software-properties module-init-tools\n",
        "!add-apt-repository -y ppa:alessandro-strada/ppa 2>&1 > /dev/null\n",
        "!apt-get update -qq 2>&1 > /dev/null\n",
        "!apt-get -y install -qq google-drive-ocamlfuse fuse"
      ],
      "execution_count": 0,
      "outputs": []
    },
    {
      "metadata": {
        "id": "Sa7C3Yv4Mfe7",
        "colab_type": "code",
        "colab": {}
      },
      "cell_type": "code",
      "source": [
        "ls"
      ],
      "execution_count": 0,
      "outputs": []
    },
    {
      "metadata": {
        "id": "vMIu2bZJfrCr",
        "colab_type": "code",
        "colab": {}
      },
      "cell_type": "code",
      "source": [
        "from google.colab import files\n",
        "upload = files.upload()"
      ],
      "execution_count": 0,
      "outputs": []
    },
    {
      "metadata": {
        "id": "-c3j9YDJMwE3",
        "colab_type": "code",
        "colab": {}
      },
      "cell_type": "code",
      "source": [
        "ls"
      ],
      "execution_count": 0,
      "outputs": []
    },
    {
      "metadata": {
        "id": "vqSBVCZCM3Vl",
        "colab_type": "code",
        "colab": {}
      },
      "cell_type": "code",
      "source": [
        "import pandas as pd\n",
        "import numpy as np\n",
        "import matplotlib.pyplot as plt\n",
        "import seaborn as sns"
      ],
      "execution_count": 0,
      "outputs": []
    },
    {
      "metadata": {
        "id": "wM2-yVqvNIe5",
        "colab_type": "text"
      },
      "cell_type": "markdown",
      "source": [
        "with help of PD we will load the data set and print some basic information"
      ]
    },
    {
      "metadata": {
        "id": "1V6-u7TBMmi0",
        "colab_type": "code",
        "colab": {}
      },
      "cell_type": "code",
      "source": [
        "data = pd.read_csv('Africa_Vectors_database_1898-2016.csv.csv');\n",
        "\n",
        "print(\"\\n \\t The data frame has {0[0]} rows and {0[1]} columns. \\n\".format(data.shape))\n",
        "data.info()\n",
        "\n",
        "data.head(3)"
      ],
      "execution_count": 0,
      "outputs": []
    },
    {
      "metadata": {
        "id": "Yep8F5XcOa_V",
        "colab_type": "code",
        "colab": {}
      },
      "cell_type": "code",
      "source": [
        "data.drop(data.columns[[-1, 0]], axis=1, inplace=True)\n",
        "\n",
        "data.info()\n"
      ],
      "execution_count": 0,
      "outputs": []
    },
    {
      "metadata": {
        "id": "4eYknlD8PFBH",
        "colab_type": "text"
      },
      "cell_type": "markdown",
      "source": [
        "we can count how many diagnosis and malignat and how many are benigen"
      ]
    },
    {
      "metadata": {
        "id": "IKRHGTXYPOZO",
        "colab_type": "code",
        "colab": {}
      },
      "cell_type": "code",
      "source": [
        "diagnosis_all = list(data.shape)[0]\n",
        "diagnosis_categories = list(data['diagnosis'].value_counts())\n",
        "\n",
        "print(\"\\n \\t The data has {} diagnosis, {} malignant and {} benign.\".format(diagnosis_all, \n",
        "                                                                                 diagnosis_categories[0], \n",
        "                                                                                 diagnosis_categories[1]))"
      ],
      "execution_count": 0,
      "outputs": []
    },
    {
      "metadata": {
        "id": "ULvU05yvQwlx",
        "colab_type": "text"
      },
      "cell_type": "markdown",
      "source": [
        "#visualizing the data"
      ]
    },
    {
      "metadata": {
        "id": "z8E7OncFQ2r6",
        "colab_type": "code",
        "colab": {}
      },
      "cell_type": "code",
      "source": [
        "features_mean= list(data.columns[1:11])\n",
        "print(features_mean)"
      ],
      "execution_count": 0,
      "outputs": []
    },
    {
      "metadata": {
        "id": "B-5pHfp2RCt3",
        "colab_type": "code",
        "colab": {}
      },
      "cell_type": "code",
      "source": [
        "plt.figure(figsize=(10,10))\n",
        "sns.heatmap(data[features_mean].corr(), annot=True, square=True, cmap='coolwarm')\n",
        "plt.show()"
      ],
      "execution_count": 0,
      "outputs": []
    },
    {
      "metadata": {
        "id": "RXRxqxKPWYSg",
        "colab_type": "code",
        "colab": {}
      },
      "cell_type": "code",
      "source": [
        "##scatter_matrix\n",
        "\n",
        "color_dic = {'M':'red', 'B':'blue'}\n",
        "colors = data['diagnosis'].map(lambda x: color_dic.get(x))\n",
        "\n",
        "sm = pd.scatter_matrix(data[features_mean], c=colors, alpha=0.4, figsize=((15,15)));\n",
        "\n",
        "plt.show()"
      ],
      "execution_count": 0,
      "outputs": []
    },
    {
      "metadata": {
        "id": "Y5EgRYozWkFc",
        "colab_type": "code",
        "colab": {}
      },
      "cell_type": "code",
      "source": [
        "##distplot\n",
        "bins = 12\n",
        "plt.figure(figsize=(15,15))\n",
        "for i, feature in enumerate(features_mean):\n",
        "    rows = int(len(features_mean)/2)\n",
        "    \n",
        "    plt.subplot(rows, 2, i+1)\n",
        "    \n",
        "    sns.distplot(data[data['diagnosis']=='M'][feature], bins=bins, color='red', label='M');\n",
        "    sns.distplot(data[data['diagnosis']=='B'][feature], bins=bins, color='blue', label='B');\n",
        "    \n",
        "    plt.legend(loc='upper right')\n",
        "\n",
        "plt.tight_layout()\n",
        "plt.show()"
      ],
      "execution_count": 0,
      "outputs": []
    },
    {
      "metadata": {
        "id": "wRphXG4EXus5",
        "colab_type": "code",
        "colab": {}
      },
      "cell_type": "code",
      "source": [
        "#boxplot\n",
        "plt.figure(figsize=(15,15))\n",
        "for i, feature in enumerate(features_mean):\n",
        "    rows = int(len(features_mean)/2)\n",
        "    \n",
        "    plt.subplot(rows, 2, i+1)\n",
        "    \n",
        "    sns.boxplot(x='diagnosis', y=feature, data=data, palette=\"Set1\")\n",
        "\n",
        "plt.tight_layout()\n",
        "plt.show()"
      ],
      "execution_count": 0,
      "outputs": []
    },
    {
      "metadata": {
        "id": "b5AfD_vjfLfA",
        "colab_type": "code",
        "colab": {}
      },
      "cell_type": "code",
      "source": [
        "#ML package\n",
        "\n",
        "from sklearn.model_selection import train_test_split, cross_val_score\n",
        "from sklearn.metrics import accuracy_score\n",
        "\n",
        "import time\n",
        "\n",
        "\n",
        "X = data.loc[:,features_mean]\n",
        "y = data.loc[:, 'diagnosis']"
      ],
      "execution_count": 0,
      "outputs": []
    },
    {
      "metadata": {
        "id": "5z1RtOvffRUo",
        "colab_type": "code",
        "colab": {}
      },
      "cell_type": "code",
      "source": [
        "#Using all mean values feature\n",
        "X_train, X_test, y_train, y_test = train_test_split(X, y, test_size = 0.2, random_state = 42)\n",
        "\n",
        "accuracy_all = []\n",
        "cvs_all = []"
      ],
      "execution_count": 0,
      "outputs": []
    },
    {
      "metadata": {
        "id": "1XHIpOY2fWd7",
        "colab_type": "code",
        "colab": {}
      },
      "cell_type": "code",
      "source": [
        "#Stochastic Gradient Descent\n",
        "\n",
        "from sklearn.linear_model import SGDClassifier\n",
        "\n",
        "start = time.time()\n",
        "\n",
        "clf = SGDClassifier()\n",
        "clf.fit(X_train, y_train)\n",
        "prediction = clf.predict(X_test)\n",
        "scores = cross_val_score(clf, X, y, cv=5)\n",
        "\n",
        "end = time.time()\n",
        "\n",
        "accuracy_all.append(accuracy_score(prediction, y_test))\n",
        "cvs_all.append(np.mean(scores))\n",
        "\n",
        "print(\"SGD Classifier Accuracy: {0:.2%}\".format(accuracy_score(prediction, y_test)))\n",
        "print(\"Cross validation score: {0:.2%} (+/- {1:.2%})\".format(np.mean(scores), np.std(scores)*2))\n",
        "print(\"Execution time: {0:.5} seconds \\n\".format(end-start))"
      ],
      "execution_count": 0,
      "outputs": []
    },
    {
      "metadata": {
        "id": "zKnw48F7fcnq",
        "colab_type": "code",
        "colab": {}
      },
      "cell_type": "code",
      "source": [
        "#Support Vector Machine\n",
        "\n",
        "from sklearn.svm import SVC, NuSVC, LinearSVC\n",
        "\n",
        "start = time.time()\n",
        "\n",
        "clf = SVC()\n",
        "clf.fit(X_train, y_train)\n",
        "prediction = clf.predict(X_test)\n",
        "scores = cross_val_score(clf, X, y, cv=5)\n",
        "\n",
        "end = time.time()\n",
        "\n",
        "accuracy_all.append(accuracy_score(prediction, y_test))\n",
        "cvs_all.append(np.mean(scores))\n",
        "\n",
        "print(\"SVC Accuracy: {0:.2%}\".format(accuracy_score(prediction, y_test)))\n",
        "print(\"Cross validation score: {0:.2%} (+/- {1:.2%})\".format(np.mean(scores), np.std(scores)*2))\n",
        "print(\"Execution time: {0:.5} seconds \\n\".format(end-start))\n",
        "\n",
        "start = time.time()\n",
        "\n",
        "clf = NuSVC()\n",
        "clf.fit(X_train, y_train)\n",
        "prediciton = clf.predict(X_test)\n",
        "scores = cross_val_score(clf, X, y, cv=5)\n",
        "\n",
        "end = time.time()\n",
        "\n",
        "accuracy_all.append(accuracy_score(prediction, y_test))\n",
        "cvs_all.append(np.mean(scores))\n",
        "\n",
        "print(\"NuSVC Accuracy: {0:.2%}\".format(accuracy_score(prediction, y_test)))\n",
        "print(\"Cross validation score: {0:.2%} (+/- {1:.2%})\".format(np.mean(scores), np.std(scores)*2))\n",
        "print(\"Execution time: {0:.5} seconds \\n\".format(end-start))\n",
        "\n",
        "start = time.time()\n",
        "\n",
        "clf = LinearSVC()\n",
        "clf.fit(X_train, y_train)\n",
        "prediction = clf.predict(X_test)\n",
        "scores = cross_val_score(clf, X, y, cv=5)\n",
        "\n",
        "end = time.time()\n",
        "\n",
        "accuracy_all.append(accuracy_score(prediction, y_test))\n",
        "cvs_all.append(np.mean(scores))\n",
        "\n",
        "print(\"LinearSVC Accuracy: {0:.2%}\".format(accuracy_score(prediction, y_test)))\n",
        "print(\"Cross validation score: {0:.2%} (+/- {1:.2%})\".format(np.mean(scores), np.std(scores)*2))\n",
        "print(\"Execution time: {0:.5} seconds \\n\".format(end-start))"
      ],
      "execution_count": 0,
      "outputs": []
    },
    {
      "metadata": {
        "id": "LPdpjH6Tff_R",
        "colab_type": "code",
        "colab": {}
      },
      "cell_type": "code",
      "source": [
        "#Nearest Neighbors\n",
        "\n",
        "from sklearn.neighbors import KNeighborsClassifier\n",
        "\n",
        "start = time.time()\n",
        "\n",
        "clf = KNeighborsClassifier()\n",
        "clf.fit(X_train, y_train)\n",
        "prediction = clf.predict(X_test)\n",
        "scores = cross_val_score(clf, X, y, cv=5)\n",
        "\n",
        "end = time.time()\n",
        "\n",
        "accuracy_all.append(accuracy_score(prediction, y_test))\n",
        "cvs_all.append(np.mean(scores))\n",
        "\n",
        "print(\"Accuracy: {0:.2%}\".format(accuracy_score(prediction, y_test)))\n",
        "print(\"Cross validation score: {0:.2%} (+/- {1:.2%})\".format(np.mean(scores), np.std(scores)*2))\n",
        "print(\"Execution time: {0:.5} seconds \\n\".format(end-start))"
      ],
      "execution_count": 0,
      "outputs": []
    },
    {
      "metadata": {
        "id": "6etOflSxfjH5",
        "colab_type": "code",
        "colab": {}
      },
      "cell_type": "code",
      "source": [
        "#Naive Bayes¶\n",
        "\n",
        "from sklearn.naive_bayes import GaussianNB\n",
        "\n",
        "start = time.time()\n",
        "\n",
        "clf = GaussianNB()\n",
        "clf.fit(X_train, y_train)\n",
        "prediction = clf.predict(X_test)\n",
        "scores = cross_val_score(clf, X, y, cv=5)\n",
        "\n",
        "end = time.time()\n",
        "\n",
        "accuracy_all.append(accuracy_score(prediction, y_test))\n",
        "cvs_all.append(np.mean(scores))\n",
        "\n",
        "print(\"Accuracy: {0:.2%}\".format(accuracy_score(prediction, y_test)))\n",
        "print(\"Cross validation score: {0:.2%} (+/- {1:.2%})\".format(np.mean(scores), np.std(scores)*2))\n",
        "print(\"Execution time: {0:.5} seconds \\n\".format(end-start))"
      ],
      "execution_count": 0,
      "outputs": []
    },
    {
      "metadata": {
        "id": "mxYBvsLOfnZl",
        "colab_type": "code",
        "colab": {}
      },
      "cell_type": "code",
      "source": [
        "#Forest and tree methods\n",
        "from sklearn.ensemble import RandomForestClassifier\n",
        "from sklearn.ensemble import ExtraTreesClassifier\n",
        "from sklearn.tree import DecisionTreeClassifier\n",
        "\n",
        "start = time.time()\n",
        "\n",
        "clf = RandomForestClassifier()\n",
        "clf.fit(X_train, y_train)\n",
        "prediction = clf.predict(X_test)\n",
        "scores = cross_val_score(clf, X, y, cv=5)\n",
        "\n",
        "end = time.time()\n",
        "\n",
        "accuracy_all.append(accuracy_score(prediction, y_test))\n",
        "cvs_all.append(np.mean(scores))\n",
        "\n",
        "print(\"Random Forest Accuracy: {0:.2%}\".format(accuracy_score(prediction, y_test)))\n",
        "print(\"Cross validation score: {0:.2%} (+/- {1:.2%})\".format(np.mean(scores), np.std(scores)*2))\n",
        "print(\"Execution time: {0:.5} seconds \\n\".format(end-start))\n",
        "\n",
        "start = time.time()\n",
        "\n",
        "clf = ExtraTreesClassifier()\n",
        "clf.fit(X_train, y_train)\n",
        "prediction = clf.predict(X_test)\n",
        "scores = cross_val_score(clf, X, y, cv=5)\n",
        "\n",
        "end = time.time()\n",
        "\n",
        "accuracy_all.append(accuracy_score(prediction, y_test))\n",
        "cvs_all.append(np.mean(scores))\n",
        "\n",
        "print(\"Extra Trees Accuracy: {0:.2%}\".format(accuracy_score(prediction, y_test)))\n",
        "print(\"Cross validation score: {0:.2%} (+/- {1:.2%})\".format(np.mean(scores), np.std(scores)*2))\n",
        "print(\"Execution time: {0:.5} seconds \\n\".format(end-start))\n",
        "\n",
        "start = time.time()\n",
        "\n",
        "clf = DecisionTreeClassifier()\n",
        "clf.fit(X_train, y_train)\n",
        "prediction = clf.predict(X_test)\n",
        "scores = cross_val_score(clf, X, y, cv=5)\n",
        "\n",
        "end = time.time()\n",
        "\n",
        "accuracy_all.append(accuracy_score(prediction, y_test))\n",
        "cvs_all.append(np.mean(scores))\n",
        "\n",
        "print(\"Dedicion Tree Accuracy: {0:.2%}\".format(accuracy_score(prediction, y_test)))\n",
        "print(\"Cross validation score: {0:.2%} (+/- {1:.2%})\".format(np.mean(scores), np.std(scores)*2))\n",
        "print(\"Execution time: {0:.5} seconds \\n\".format(end-start))"
      ],
      "execution_count": 0,
      "outputs": []
    }
  ]
}